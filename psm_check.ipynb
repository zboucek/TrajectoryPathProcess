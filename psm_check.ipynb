{
 "cells": [
  {
   "cell_type": "markdown",
   "id": "ff57d5be",
   "metadata": {},
   "source": [
    "# Check of solution\n",
    "\n",
    "The routine for check of constraint and evaluation of the deviation will be performed below. The multisegment pseudospectral method itself is implemented pscontrol.py."
   ]
  },
  {
   "cell_type": "code",
   "execution_count": 1,
   "id": "23d754bf",
   "metadata": {},
   "outputs": [],
   "source": [
    "import cloudpickle\n",
    "from ps_control import *\n",
    "import numpy as np\n",
    "import pickle\n",
    "import matplotlib.pyplot as plt\n",
    "from scipy.interpolate import lagrange"
   ]
  },
  {
   "cell_type": "code",
   "execution_count": 14,
   "id": "f21ce8ab",
   "metadata": {},
   "outputs": [],
   "source": [
    "folder = 'data_traj'\n",
    "i = -1\n",
    "file_names = ['orchard', 'columns', 'random_spheres', 'forest', 'walls','example','simple']"
   ]
  },
  {
   "cell_type": "code",
   "execution_count": 15,
   "id": "204be754",
   "metadata": {},
   "outputs": [],
   "source": [
    "with open('data_traj/ps_'+file_names[i]+'.pkl', mode='rb') as file:\n",
    "   m = cloudpickle.load(file)"
   ]
  },
  {
   "cell_type": "code",
   "execution_count": 16,
   "id": "232da45a",
   "metadata": {
    "scrolled": true
   },
   "outputs": [
    {
     "name": "stdout",
     "output_type": "stream",
     "text": [
      "-7.182680798543747e-08\n",
      "-2.5458298950885193e-08\n",
      "-4.8322954810942065e-06\n",
      "5.517324147576122e-09\n",
      "-4.268055083788165e-09\n",
      "-6.63284406945408e-05\n",
      "9.626394489328351e-07\n",
      "3.910636800667237e-09\n",
      "-7.518377772075927e-08\n",
      "-1.7026855493837176e-08\n",
      "0.0001526072469539841\n",
      "-0.00016681682471109127\n",
      "0.00020988276287270402\n"
     ]
    }
   ],
   "source": [
    "for j in m.nx:\n",
    "    print(value(m.dynamics_const[j+1]))"
   ]
  },
  {
   "cell_type": "code",
   "execution_count": 17,
   "id": "f5a47959",
   "metadata": {},
   "outputs": [
    {
     "ename": "FileNotFoundError",
     "evalue": "[Errno 2] No such file or directory: 'data_traj/ps_sol_simple.pkl'",
     "output_type": "error",
     "traceback": [
      "\u001b[0;31m---------------------------------------------------------------------------\u001b[0m",
      "\u001b[0;31mFileNotFoundError\u001b[0m                         Traceback (most recent call last)",
      "\u001b[0;32m/tmp/ipykernel_184709/1201162086.py\u001b[0m in \u001b[0;36m<module>\u001b[0;34m\u001b[0m\n\u001b[0;32m----> 1\u001b[0;31m \u001b[0;32mwith\u001b[0m \u001b[0mopen\u001b[0m\u001b[0;34m(\u001b[0m\u001b[0mfolder\u001b[0m\u001b[0;34m+\u001b[0m\u001b[0;34m'/'\u001b[0m\u001b[0;34m+\u001b[0m\u001b[0;34m'ps_sol_'\u001b[0m\u001b[0;34m+\u001b[0m\u001b[0mfile_names\u001b[0m\u001b[0;34m[\u001b[0m\u001b[0mi\u001b[0m\u001b[0;34m]\u001b[0m\u001b[0;34m+\u001b[0m\u001b[0;34m'.pkl'\u001b[0m\u001b[0;34m,\u001b[0m \u001b[0;34m'rb'\u001b[0m\u001b[0;34m)\u001b[0m \u001b[0;32mas\u001b[0m \u001b[0mfile\u001b[0m\u001b[0;34m:\u001b[0m\u001b[0;34m\u001b[0m\u001b[0;34m\u001b[0m\u001b[0m\n\u001b[0m\u001b[1;32m      2\u001b[0m     \u001b[0;31m# Call load method to deserialze\u001b[0m\u001b[0;34m\u001b[0m\u001b[0;34m\u001b[0m\u001b[0;34m\u001b[0m\u001b[0m\n\u001b[1;32m      3\u001b[0m     \u001b[0msolution\u001b[0m \u001b[0;34m=\u001b[0m \u001b[0mpickle\u001b[0m\u001b[0;34m.\u001b[0m\u001b[0mload\u001b[0m\u001b[0;34m(\u001b[0m\u001b[0mfile\u001b[0m\u001b[0;34m)\u001b[0m\u001b[0;34m\u001b[0m\u001b[0;34m\u001b[0m\u001b[0m\n",
      "\u001b[0;31mFileNotFoundError\u001b[0m: [Errno 2] No such file or directory: 'data_traj/ps_sol_simple.pkl'"
     ]
    }
   ],
   "source": [
    "with open(folder+'/'+'ps_sol_'+file_names[i]+'.pkl', 'rb') as file:\n",
    "    # Call load method to deserialze\n",
    "    solution = pickle.load(file)"
   ]
  },
  {
   "cell_type": "code",
   "execution_count": 6,
   "id": "01e18eca",
   "metadata": {},
   "outputs": [
    {
     "data": {
      "text/plain": [
       "[<matplotlib.lines.Line2D at 0x7fe69f1acd60>]"
      ]
     },
     "execution_count": 6,
     "metadata": {},
     "output_type": "execute_result"
    },
    {
     "data": {
      "image/png": "[encoded data removed]",
      "text/plain": [
       "<Figure size 432x288 with 1 Axes>"
      ]
     },
     "metadata": {
      "needs_background": "light"
     },
     "output_type": "display_data"
    }
   ],
   "source": [
    "plt.plot(solution.time[:])\n"
   ]
  },
  {
   "cell_type": "code",
   "execution_count": 7,
   "id": "7c119c2a",
   "metadata": {},
   "outputs": [
    {
     "name": "stderr",
     "output_type": "stream",
     "text": [
      "/home/zboucek/anaconda3/envs/traj/lib/python3.8/site-packages/numpy/polynomial/polynomial.py:1361: RankWarning: The fit may be poorly conditioned\n",
      "  return pu._fit(polyvander, x, y, deg, rcond, full, w)\n"
     ]
    }
   ],
   "source": [
    "def getPolynomial(y,t,n):\n",
    "    \"\"\"Return polynomial of n-th order\"\"\"\n",
    "    return np.polynomial.Polynomial.fit(t,y,n)\n",
    "\n",
    "def getPolynomialWLagrange(y,t):\n",
    "    \"\"\"Return polynomial of n-th order\"\"\"\n",
    "    return np.polynomial.Polynomial(lagrange(t,y).coef[::-1])\n",
    "        \n",
    "def getPolynomials(y,t,n_col):\n",
    "    \"\"\"Return array of polynomials for each segment\"\"\"\n",
    "    p = []\n",
    "    n_col_add = np.zeros(solution.n_col.shape[0]+1, dtype=int)\n",
    "    for i, cols in enumerate(n_col):\n",
    "        n_col_add[i+1] = n_col_add[i] + cols\n",
    "        p.append(getPolynomial(y[n_col_add[i]:n_col_add[i+1]],t[n_col_add[i]:n_col_add[i+1]],cols))\n",
    "    return p\n",
    "\n",
    "def getPolynomialsWLagrange(y,t,n_col):\n",
    "    \"\"\"Return array of polynomials for each segment\"\"\"\n",
    "    p = []\n",
    "    n_col_add = np.zeros(solution.n_col.shape[0]+1, dtype=int)\n",
    "    for i, cols in enumerate(n_col):\n",
    "        n_col_add[i+1] = n_col_add[i] + cols\n",
    "        p.append(getPolynomialWLagrange(y[n_col_add[i]:n_col_add[i+1]],t[n_col_add[i]:n_col_add[i+1]]))\n",
    "    return p\n",
    "\n",
    "def getNPolynomials(Y,t,n_col):\n",
    "    \"\"\"Returns array of N functions Y[N,t] for each segment \"\"\"\n",
    "    pY = []\n",
    "    for y in Y:\n",
    "        pY.append(getPolynomials(y,t, n_col))\n",
    "    return pY\n",
    "\n",
    "def getNPolynomialsWLagrange(Y,t,n_col):\n",
    "    \"\"\"Returns array of N functions Y[N,t] for each segment \"\"\"\n",
    "    pY = []\n",
    "    for y in Y:\n",
    "        pY.append(getPolynomialsWLagrange(y,t, n_col))\n",
    "    return pY\n",
    "\n",
    "def getPolyDerivative(p):\n",
    "    \"\"\"Return 1st derivative of polynomial\"\"\"\n",
    "    return p.deriv(1)\n",
    "\n",
    "pY = getNPolynomials(solution.state,solution.time, solution.n_col)\n",
    "pY2 = getNPolynomialsWLagrange(solution.state,solution.time, solution.n_col)"
   ]
  },
  {
   "cell_type": "code",
   "execution_count": 8,
   "id": "bab3f3db",
   "metadata": {},
   "outputs": [
    {
     "data": {
      "text/plain": [
       "[<matplotlib.lines.Line2D at 0x7fe69d8b25e0>]"
      ]
     },
     "execution_count": 8,
     "metadata": {},
     "output_type": "execute_result"
    },
    {
     "data": {
      "image/png": "[encoded data removed]",
      "text/plain": [
       "<Figure size 432x288 with 1 Axes>"
      ]
     },
     "metadata": {
      "needs_background": "light"
     },
     "output_type": "display_data"
    }
   ],
   "source": [
    "# eval polynomial\n",
    "t = np.linspace(solution.time[0],solution.time[-1],int(solution.time.shape[0]*1e2))\n",
    "i = 1\n",
    "plt.plot(t,pY[i][0](t))\n",
    "# plt.plot(t,pY2[i][0](t))\n",
    "plt.plot(solution.time, solution.state[i,:],'.')"
   ]
  },
  {
   "cell_type": "code",
   "execution_count": 9,
   "id": "8318140c",
   "metadata": {},
   "outputs": [
    {
     "data": {
      "text/plain": [
       "[<matplotlib.lines.Line2D at 0x7fe69d5bd820>]"
      ]
     },
     "execution_count": 9,
     "metadata": {},
     "output_type": "execute_result"
    },
    {
     "data": {
      "image/png": "[encoded data removed]",
      "text/plain": [
       "<Figure size 432x288 with 1 Axes>"
      ]
     },
     "metadata": {
      "needs_background": "light"
     },
     "output_type": "display_data"
    }
   ],
   "source": [
    "# calc and plot polynomial derivative \n",
    "i = 0\n",
    "dpY = pY[0][0].deriv(1)\n",
    "plt.plot(t,dpY(t))\n",
    "plt.plot(t,pY[i+3][0](t))"
   ]
  },
  {
   "cell_type": "code",
   "execution_count": 10,
   "id": "e77ffea7",
   "metadata": {},
   "outputs": [
    {
     "name": "stdout",
     "output_type": "stream",
     "text": [
      "2.0001095173150043\n",
      "-0.00010951731500430384\n"
     ]
    }
   ],
   "source": [
    "import numpy as np\n",
    "\n",
    "a = 0\n",
    "b = np.pi\n",
    "n = 11\n",
    "h = (b - a) / (n - 1)\n",
    "x = np.linspace(a, b, n)\n",
    "f = np.sin(x)\n",
    "\n",
    "I_simp = (h/3) * (f[0] + 2*sum(f[:n-2:2]) \\\n",
    "            + 4*sum(f[1:n-1:2]) + f[n-1])\n",
    "err_simp = 2 - I_simp\n",
    "\n",
    "print(I_simp)\n",
    "print(err_simp)"
   ]
  },
  {
   "cell_type": "code",
   "execution_count": 11,
   "id": "75836cc0",
   "metadata": {},
   "outputs": [],
   "source": [
    "def localDiscratizationError(t0,tf,dx, f_dyn,x,u,n=10):\n",
    "    \"\"\" \n",
    "    Get approximate local discretization error by calculating \n",
    "    the intergral int_t0^tf abs(dx(t) - f(x(t),u(t),t)) dt  using composite Simpson's rule.\n",
    "    Implemented according to https://pythonnumericalmethods.berkeley.edu/notebooks/chapter21.04-Simpsons-Rule.html\n",
    "    \"\"\"\n",
    "    h = (tf - t0) / (n - 1)\n",
    "    t = np.linspace(t0, tf, n)\n",
    "    #eval abs(dx(tk) - f_dyn(x(tk),u(tk),tk)), where k = 0,...,n\n",
    "    f = np.zeros(x(t0).shape[0],n)\n",
    "    for tk in t:\n",
    "        f.append(np.abs(dx(tk) - f_dyn(x(tk),u(tk))))\n",
    "    I_simp = (h/3) * (f[0] + 2*sum(f[:n-2:2]) \\\n",
    "            + 4*sum(f[1:n-1:2]) + f[n-1])\n",
    "    return I_simp\n",
    "    "
   ]
  },
  {
   "cell_type": "code",
   "execution_count": 13,
   "id": "cd09d84e",
   "metadata": {},
   "outputs": [],
   "source": [
    "pX = pY[0:12][0]"
   ]
  },
  {
   "cell_type": "code",
   "execution_count": null,
   "id": "a66fa1f9",
   "metadata": {},
   "outputs": [],
   "source": []
  },
  {
   "cell_type": "code",
   "execution_count": null,
   "id": "d1bf7147",
   "metadata": {},
   "outputs": [],
   "source": []
  }
 ],
 "metadata": {
  "kernelspec": {
   "display_name": "Python 3.8.11 ('traj')",
   "language": "python",
   "name": "python3"
  },
  "language_info": {
   "codemirror_mode": {
    "name": "ipython",
    "version": 3
   },
   "file_extension": ".py",
   "mimetype": "text/x-python",
   "name": "python",
   "nbconvert_exporter": "python",
   "pygments_lexer": "ipython3",
   "version": "3.8.11"
  },
  "vscode": {
   "interpreter": {
    "hash": "30fb95c67d7497f8b1e6547146b4de45da1fc4e32bbc08f7aae0016d1b5246c1"
   }
  }
 },
 "nbformat": 4,
 "nbformat_minor": 5
}
